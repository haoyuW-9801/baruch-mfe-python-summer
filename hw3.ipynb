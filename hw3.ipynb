{
 "cells": [
  {
   "cell_type": "markdown",
   "metadata": {},
   "source": [
    "## Problem1"
   ]
  },
  {
   "cell_type": "code",
   "execution_count": 8,
   "metadata": {},
   "outputs": [],
   "source": [
    "#test sample\n",
    "list_sample_1 = range(0,100000,2)\n",
    "list_sample_2 = range(100000)\n"
   ]
  },
  {
   "cell_type": "code",
   "execution_count": 9,
   "metadata": {},
   "outputs": [],
   "source": [
    "## the original function\n",
    "## use loop and if-else\n",
    "def func1(names, db):\n",
    "    '''\n",
    "    out put the index of elements in db which belongs to names\n",
    "    '''\n",
    "    idx = []\n",
    "    for i in names:\n",
    "        if i in db:\n",
    "            idx.append(db.index(i))\n",
    "    return idx"
   ]
  },
  {
   "cell_type": "code",
   "execution_count": 10,
   "metadata": {},
   "outputs": [],
   "source": [
    "##use numpy to implement func1\n",
    "import numpy as np\n",
    "def func1_np(names, db):\n",
    "    '''\n",
    "    out put the index of elements in db which belongs to names\n",
    "    '''\n",
    "    return np.arange(len(db))[ np.isin(db, names)]"
   ]
  },
  {
   "cell_type": "code",
   "execution_count": 11,
   "metadata": {},
   "outputs": [
    {
     "name": "stdout",
     "output_type": "stream",
     "text": [
      "19.8 ms ± 2.58 ms per loop (mean ± std. dev. of 7 runs, 100 loops each)\n"
     ]
    }
   ],
   "source": [
    "%timeit func1(list_sample_1, list_sample_2)"
   ]
  },
  {
   "cell_type": "code",
   "execution_count": 12,
   "metadata": {},
   "outputs": [
    {
     "name": "stdout",
     "output_type": "stream",
     "text": [
      "12.9 ms ± 3.54 ms per loop (mean ± std. dev. of 7 runs, 100 loops each)\n"
     ]
    }
   ],
   "source": [
    "list_sample_1 = np.array(list_sample_1)\n",
    "list_sample_2 = np.array(list_sample_2)\n",
    "%timeit func1_np(list_sample_1, list_sample_2)\n",
    "##if I don't convert the type first, it will cost a lot more time"
   ]
  },
  {
   "cell_type": "markdown",
   "metadata": {},
   "source": [
    "## Problem 2"
   ]
  },
  {
   "cell_type": "code",
   "execution_count": 6,
   "metadata": {},
   "outputs": [],
   "source": [
    "def search_pairs(coordinates, N, r0):\n",
    "    '''\n",
    "    coordinates: list of points\n",
    "    N: the number of pairs we need\n",
    "    r0: radius\n",
    "    '''\n",
    "    ##get the distance between any two points\n",
    "    pair_dists = np.linalg.norm(coordinates[:, np.newaxis, :] - coordinates, axis=2)\n",
    "    ##get the mask based on whether the point is in the circle\n",
    "    points_in_r0 = np.linalg.norm(coordinates, axis=1) < r0\n",
    "    ##note that we need pairs either of is in the cricle(xor)\n",
    "    mask_r0 = points_in_r0[:, np.newaxis] ^ points_in_r0\n",
    "    ##as each pair occured two times in the matrix, we only need the lower triangle matrix\n",
    "    ##to make this, we need another matrix to indicate whether the element is in the lower matrix\n",
    "    mask_uniq_dists = np.tril(np.ones_like(mask_r0), k=-1)\n",
    "    uniq_dists = pair_dists[mask_r0 & mask_uniq_dists]\n",
    "    uniq_indices = np.argwhere(mask_r0 & mask_uniq_dists)\n",
    "    # use numpy.argpartition to return the largest N pairs \n",
    "    return uniq_indices[np.argpartition(uniq_dists, -N)[-N:]]"
   ]
  },
  {
   "cell_type": "code",
   "execution_count": 7,
   "metadata": {},
   "outputs": [
    {
     "name": "stdout",
     "output_type": "stream",
     "text": [
      "[[2 1]\n",
      " [3 0]\n",
      " [3 1]]\n"
     ]
    }
   ],
   "source": [
    "##test\n",
    "coordinates = np.array(\n",
    "[[0.968, 0.313],\n",
    " [0.692, 0.876],\n",
    " [0.895, 0.085],\n",
    " [0.039, 0.17 ],\n",
    " [0.878, 0.098]]\n",
    ")\n",
    "cirle_r0 = 0.9\n",
    "print(search_pairs(coordinates, 3, cirle_r0))\n"
   ]
  },
  {
   "cell_type": "code",
   "execution_count": null,
   "metadata": {},
   "outputs": [],
   "source": []
  }
 ],
 "metadata": {
  "kernelspec": {
   "display_name": "Python 3",
   "language": "python",
   "name": "python3"
  },
  "language_info": {
   "codemirror_mode": {
    "name": "ipython",
    "version": 3
   },
   "file_extension": ".py",
   "mimetype": "text/x-python",
   "name": "python",
   "nbconvert_exporter": "python",
   "pygments_lexer": "ipython3",
   "version": "3.7.3"
  }
 },
 "nbformat": 4,
 "nbformat_minor": 2
}
