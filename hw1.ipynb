{
 "cells": [
  {
   "cell_type": "markdown",
   "metadata": {},
   "source": [
    "## 1.2\n"
   ]
  },
  {
   "cell_type": "code",
   "execution_count": 6,
   "metadata": {},
   "outputs": [],
   "source": [
    "from IPython.core.magic import (register_line_magic, register_cell_magic,\n",
    "                                register_line_cell_magic)\n",
    "## line or cell magic\n",
    "@register_line_cell_magic\n",
    "def countwords(line,cell = None):\n",
    "    print(\"countwords\")\n",
    "    if(cell == None):\n",
    "        ##line magic\n",
    "        return len(line.split())\n",
    "    else:\n",
    "        ##cell magic\n",
    "        return len((line+cell).split())"
   ]
  },
  {
   "cell_type": "code",
   "execution_count": 7,
   "metadata": {},
   "outputs": [
    {
     "name": "stdout",
     "output_type": "stream",
     "text": [
      "countwords\n"
     ]
    },
    {
     "data": {
      "text/plain": [
       "2"
      ]
     },
     "execution_count": 7,
     "metadata": {},
     "output_type": "execute_result"
    }
   ],
   "source": [
    "##test of line magic\n",
    "%countwords hello python"
   ]
  },
  {
   "cell_type": "code",
   "execution_count": 12,
   "metadata": {},
   "outputs": [
    {
     "name": "stdout",
     "output_type": "stream",
     "text": [
      "countwords\n"
     ]
    },
    {
     "data": {
      "text/plain": [
       "9"
      ]
     },
     "execution_count": 12,
     "metadata": {},
     "output_type": "execute_result"
    }
   ],
   "source": [
    "%%countwords\n",
    "hello \n",
    "python\n",
    "count the words of this \n",
    "sentence\n",
    "##comment"
   ]
  },
  {
   "cell_type": "markdown",
   "metadata": {},
   "source": [
    "## 1.3"
   ]
  },
  {
   "cell_type": "code",
   "execution_count": 13,
   "metadata": {},
   "outputs": [
    {
     "name": "stdout",
     "output_type": "stream",
     "text": [
      "Wall time: 39.9 ms\n"
     ]
    }
   ],
   "source": [
    "##list comprehension\n",
    "%time list1 = [pow(i,2) for i in range(100000)]"
   ]
  },
  {
   "cell_type": "code",
   "execution_count": 15,
   "metadata": {},
   "outputs": [
    {
     "name": "stdout",
     "output_type": "stream",
     "text": [
      "Wall time: 55.9 ms\n"
     ]
    }
   ],
   "source": [
    "%%time\n",
    "list2 = []\n",
    "for i in range(100000):\n",
    "    list2.append(pow(i,2))"
   ]
  },
  {
   "cell_type": "markdown",
   "metadata": {},
   "source": [
    "## 1.4"
   ]
  },
  {
   "cell_type": "code",
   "execution_count": 16,
   "metadata": {},
   "outputs": [],
   "source": [
    "from math import sqrt"
   ]
  },
  {
   "cell_type": "code",
   "execution_count": 17,
   "metadata": {},
   "outputs": [
    {
     "data": {
      "text/plain": [
       "[3, 5, 7, 7, 5, 3]"
      ]
     },
     "execution_count": 17,
     "metadata": {},
     "output_type": "execute_result"
    }
   ],
   "source": [
    "##one line to find prime\n",
    "list3 = [1,2,3,4,5,6,7,8,9,8,7,6,5,4,3,2,1]\n",
    "\n",
    "[i for i in list3 if all(i%j!=0 for j in range(2,int(sqrt(i))+2)) and i > 1]"
   ]
  },
  {
   "cell_type": "markdown",
   "metadata": {},
   "source": [
    "## 1.5"
   ]
  },
  {
   "cell_type": "code",
   "execution_count": 18,
   "metadata": {},
   "outputs": [],
   "source": [
    "import numbers\n",
    "import math"
   ]
  },
  {
   "cell_type": "code",
   "execution_count": 19,
   "metadata": {},
   "outputs": [],
   "source": [
    "class Vector:\n",
    "    def __init__(self,*args):\n",
    "        \"\"\"initial a vector\"\"\"\n",
    "        self.list_value = args\n",
    "        \n",
    "    \n",
    "    def __repr__(self):\n",
    "        \"\"\" repr \"\"\"\n",
    "        if len(self) == 1:\n",
    "            return f\"Vector({self.list_value[0]})\"\n",
    "        else:\n",
    "            return f\"Vector{self.list_value}\"\n",
    "    \n",
    "    def __str__(self):\n",
    "        \"\"\"return a discription string\"\"\"\n",
    "        if len(self) == 1:\n",
    "            return  f\"this is a vector ({self.list_value[0]})\"\n",
    "        else: \n",
    "            return f\"this is a vector {self.list_value}\"\n",
    "\n",
    "    def __abs__(self):\n",
    "        \"\"\"return the module of the vector\"\"\"\n",
    "        return math.sqrt(sum(self.list_value))\n",
    "\n",
    "        \n",
    "    def __len__(self):\n",
    "        \"\"\"return the dimension of the vector\"\"\"\n",
    "        return len(self.list_value)\n",
    "    \n",
    "    def __getitem__(self,index):\n",
    "        \"\"\"get from slice or a single index\"\"\"\n",
    "        cls = type(self)  # <1>        \n",
    "        if isinstance(index, slice):  # <2>            \n",
    "            return cls( *self.list_value[index])  # <3>        \n",
    "        elif isinstance(index, numbers.Integral):  # <4>            \n",
    "            return self.list_value[index]  # <5>        \n",
    "        else:           \n",
    "            msg = '{cls.__name__} indices must be integers'            \n",
    "            raise TypeError(msg.format(cls=cls))  # <6>\n",
    "            \n",
    "    def __add__(self, other): \n",
    "        \"\"\"add two vector\"\"\"\n",
    "        result = [self[i] + other[i] for i in range(len(self))]\n",
    "        return Vector(*result)\n",
    "    \n",
    "    def __sub__(self, other): \n",
    "        \"\"\"sub of vector\"\"\"\n",
    "        result = [self[i] - other[i] for i in range(len(self))]\n",
    "        return Vector(*result)\n",
    "\n",
    "    def __mul__(self, scalar):\n",
    "        return Vector(*[i*scalar for i in self.list_value])\n",
    "    \n",
    "    def __pow__(self,scalar):\n",
    "        return Vector(*[i**scalar for i in self.list_value])"
   ]
  },
  {
   "cell_type": "code",
   "execution_count": 20,
   "metadata": {},
   "outputs": [
    {
     "data": {
      "text/plain": [
       "(1, 2, 3, 4, 5)"
      ]
     },
     "execution_count": 20,
     "metadata": {},
     "output_type": "execute_result"
    }
   ],
   "source": [
    "# construction\n",
    "v = Vector(1,2,3,4,5)\n",
    "v.list_value"
   ]
  },
  {
   "cell_type": "code",
   "execution_count": 21,
   "metadata": {},
   "outputs": [
    {
     "data": {
      "text/plain": [
       "3"
      ]
     },
     "execution_count": 21,
     "metadata": {},
     "output_type": "execute_result"
    }
   ],
   "source": [
    "# get item\n",
    "v[2]\n"
   ]
  },
  {
   "cell_type": "code",
   "execution_count": 22,
   "metadata": {},
   "outputs": [
    {
     "data": {
      "text/plain": [
       "Vector(1, 4, 9, 16, 25)"
      ]
     },
     "execution_count": 22,
     "metadata": {},
     "output_type": "execute_result"
    }
   ],
   "source": [
    "v ** 2"
   ]
  },
  {
   "cell_type": "code",
   "execution_count": 23,
   "metadata": {},
   "outputs": [
    {
     "data": {
      "text/plain": [
       "5"
      ]
     },
     "execution_count": 23,
     "metadata": {},
     "output_type": "execute_result"
    }
   ],
   "source": [
    "len(v)"
   ]
  },
  {
   "cell_type": "code",
   "execution_count": 24,
   "metadata": {},
   "outputs": [
    {
     "data": {
      "text/plain": [
       "Vector(3)"
      ]
     },
     "execution_count": 24,
     "metadata": {},
     "output_type": "execute_result"
    }
   ],
   "source": [
    "v[2:3]\n"
   ]
  },
  {
   "cell_type": "markdown",
   "metadata": {},
   "source": [
    "## 1.6"
   ]
  },
  {
   "cell_type": "code",
   "execution_count": 25,
   "metadata": {},
   "outputs": [],
   "source": [
    " from collections import UserDict"
   ]
  },
  {
   "cell_type": "code",
   "execution_count": 26,
   "metadata": {},
   "outputs": [],
   "source": [
    "##refer to the implementation of Request\n",
    "##the ideal is to store data as lower key:(real key, value)\n",
    "class CaseInsensitiveDict(UserDict):   \n",
    "    \n",
    "    def __init__(self, data=None):\n",
    "        super().__init__()\n",
    "        if data is None:\n",
    "            data = {}\n",
    "        for key, val in data.items():\n",
    "            self[key] = val\n",
    "            \n",
    "    def __setitem__(self, key, value):\n",
    "        super().__setitem__(key.lower(), (key,value))\n",
    "\n",
    "    def __getitem__(self, key):\n",
    "        return (super().__getitem__(key.lower()))[1]\n",
    "\n",
    "    def __delitem__(self, key):\n",
    "        del self._store[key.lower()]\n",
    "\n",
    "    def __repr__(self):\n",
    "        return str(dict(self.data.values()))\n",
    "    \n",
    "    def __copy__(self):\n",
    "        return CaseInsensitiveDict(self.data.values())"
   ]
  },
  {
   "cell_type": "code",
   "execution_count": 27,
   "metadata": {},
   "outputs": [
    {
     "name": "stdout",
     "output_type": "stream",
     "text": [
      "{'A': 3}\n",
      "3\n",
      "5\n",
      "{'A': 5, 'b': 4}\n"
     ]
    }
   ],
   "source": [
    "d = CaseInsensitiveDict()\n",
    "d['A'] = 3\n",
    "print(d)\n",
    "\n",
    "print(d['a'])\n",
    "d['A'] = 5\n",
    "print(d['a'])\n",
    "d['A'] = 5\n",
    "\n",
    "d['b'] = 4\n",
    "\n",
    "print(d)\n",
    "\n"
   ]
  },
  {
   "cell_type": "code",
   "execution_count": null,
   "metadata": {},
   "outputs": [],
   "source": []
  }
 ],
 "metadata": {
  "kernelspec": {
   "display_name": "Python 3",
   "language": "python",
   "name": "python3"
  },
  "language_info": {
   "codemirror_mode": {
    "name": "ipython",
    "version": 3
   },
   "file_extension": ".py",
   "mimetype": "text/x-python",
   "name": "python",
   "nbconvert_exporter": "python",
   "pygments_lexer": "ipython3",
   "version": "3.7.3"
  }
 },
 "nbformat": 4,
 "nbformat_minor": 2
}
